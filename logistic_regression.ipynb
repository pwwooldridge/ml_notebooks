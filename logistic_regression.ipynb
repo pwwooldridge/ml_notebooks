{
 "cells": [
  {
   "cell_type": "code",
   "execution_count": 18,
   "metadata": {},
   "outputs": [],
   "source": [
    "%matplotlib inline\n",
    "import matplotlib.pyplot as plt\n",
    "from IPython.display import set_matplotlib_formats\n",
    "set_matplotlib_formats('retina')"
   ]
  },
  {
   "cell_type": "code",
   "execution_count": 19,
   "metadata": {},
   "outputs": [],
   "source": [
    "import numpy as np\n",
    "import math"
   ]
  },
  {
   "cell_type": "markdown",
   "metadata": {},
   "source": [
    "Let\n",
    "\n",
    "$\n",
    "z = w^Tx = w_0 + w_1x_1 + w_2x_2 + \\dots w_p x_p\\\\\n",
    "g(z) = \\dfrac{1}{1+e^{-z}}\\\\\n",
    "$\n",
    "\n",
    "then our logistic regression model is given by: \n",
    "\n",
    "$\n",
    "\\hat{y}_w(x)= g(w^Tx)\n",
    "$"
   ]
  },
  {
   "cell_type": "code",
   "execution_count": 21,
   "metadata": {},
   "outputs": [],
   "source": [
    "def sigmoid(weights, samples):\n",
    "    return 1 / (1 + np.exp(np.dot(weights, samples)))"
   ]
  },
  {
   "cell_type": "markdown",
   "metadata": {},
   "source": [
    "We could proceed as for linear regression by using the mean-squared error as our loss function. Unfortunately because of the non-linear nature of the sigmoid function, this loss function is not convex and so there are many local optima. This is a problem for gradient descent algorithm as it may not converge to the global minimum. Cross-entropy loss measures the performance of a classifier that outputs a 0 or 1. For a single training example (x,y) we define this as: "
   ]
  },
  {
   "cell_type": "code",
   "execution_count": 14,
   "metadata": {
    "jupyter": {
     "source_hidden": true
    }
   },
   "outputs": [
    {
     "data": {
      "text/latex": [
       "\\[   \n",
       "\\mathcal{L}(\\hat{y}, y) = \n",
       "     \\begin{cases}\n",
       "       -\\text{log}(\\hat{y}) \\quad\\text{if }y=1\\\\\n",
       "       -\\text{log}(1 - \\hat{y}) \\quad\\text{if }y=0\\\\\n",
       "     \\end{cases}\n",
       "\\]\n"
      ],
      "text/plain": [
       "<IPython.core.display.Latex object>"
      ]
     },
     "metadata": {},
     "output_type": "display_data"
    }
   ],
   "source": [
    "%%latex\n",
    "\\[   \n",
    "\\mathcal{L}(\\hat{y}, y) = \n",
    "     \\begin{cases}\n",
    "       -\\text{log}(\\hat{y}) \\quad\\text{if }y=1\\\\\n",
    "       -\\text{log}(1 - \\hat{y}) \\quad\\text{if }y=0\\\\\n",
    "     \\end{cases}\n",
    "\\]"
   ]
  },
  {
   "cell_type": "markdown",
   "metadata": {},
   "source": [
    "We can plot these loss functions for y = 0 and y = 1"
   ]
  },
  {
   "cell_type": "code",
   "execution_count": 24,
   "metadata": {},
   "outputs": [
    {
     "data": {
      "text/plain": [
       "[<matplotlib.lines.Line2D at 0x1182e0eb8>]"
      ]
     },
     "execution_count": 24,
     "metadata": {},
     "output_type": "execute_result"
    },
    {
     "data": {
      "image/png": "[encoded data removed]",
      "text/plain": [
       "<Figure size 432x288 with 2 Axes>"
      ]
     },
     "metadata": {
      "image/png": {
       "height": 280,
       "width": 383
      },
      "needs_background": "light"
     },
     "output_type": "display_data"
    }
   ],
   "source": [
    "h_w = np.linspace(0.0001, 0.9999, 50)\n",
    "cost_y1 = -np.log(h_w)\n",
    "cost_y0 = -np.log(1-h_w)\n",
    "\n",
    "fig, axs = plt.subplots(nrows=1, ncols=2, sharex=True)\n",
    "ax = axs[0]\n",
    "ax.set_title(\"Loss function for y=1\")\n",
    "ax.set_xlabel(r\"$\\hat{y}$\")\n",
    "ax.set_ylabel(r\"$\\mathcal{L}(\\hat{y}, y)$\")\n",
    "ax.plot(h_w, cost_y1)\n",
    "\n",
    "ax = axs[1]\n",
    "ax.set_title(\"Loss function for y=0\")\n",
    "ax.set_xlabel(r\"$\\hat{y}$\")\n",
    "ax.set_ylabel(r\"$\\mathcal{L}(\\hat{y}, y)$\")\n",
    "ax.plot(h_w, cost_y0)"
   ]
  },
  {
   "cell_type": "markdown",
   "metadata": {},
   "source": [
    "We can see that when the prediction is close the actual value of y then the loss functions are small. Conversly when the predictions are far from the actual y values then the loss is large. Therefore, we are penalised more when our predictions are further from the truth!\n",
    "\n",
    "It is actually possible to rewrite the loss function above as a single function as follows:\n",
    "\n",
    "$\\mathcal{L}(\\hat{y}, y) =-y\\,\\text{log}(\\hat{y}) - (1-y)\\text{log}(1 - \\hat{y})$\n",
    "\n",
    "The above accounts for the loss for a single training example, we define a cost funtion $\\mathcal{J}$ that is the average loss across all the training examples:\n",
    "\n",
    "$\\mathcal{J}(w) =-\\frac{1}{N}\\sum_{i=0}^{N}{y^{(i)}\\,\\text{log}(\\hat{y}^{(i)}) + (1-y^{(i)})\\,\\log(1 - \\hat{y}^{(i)})}$\n",
    "\n",
    "where $x^{(i)}$ represents the $i^{th}$ training example. Our goal then is to find the $w$ values that minimise $\\mathcal{J}$. We will do this using gradient descent approach and for this the first thing we need to compute the deriviative $\\mathcal{J}$ with respect to $w_i$. \n",
    "\n",
    "In the following steps, we will use the notation $wx^{i}$ to mean $w_0 + w_1x_1^{i} + w_2x_2^{i} + \\dots + w_px_p^{i}$\n",
    "\n",
    "We can simplify $\\mathcal{J(w)}$ by noting that:\n",
    "\n",
    "\n",
    "$\n",
    "\\begin{align}\n",
    "\\log(\\hat{y}^{(i)}) &= \\log \\left( \\dfrac{1}{1+e^{-wx^{i}}}\\right)\\\\\n",
    "&= \\log(1) - \\log(1+e^{-wx^{i}})\\\\\n",
    "&= - \\log(1+e^{-wx^{i}})\n",
    "\\end{align}\n",
    "$\n",
    "\n",
    "and\n",
    "\n",
    "$\n",
    "\\begin{align}\n",
    "\\log(1 - \\hat{y}^{(i)}) &= \\log \\left( 1 - \\dfrac{1}{1+e^{-wx^{i}}}\\right)\\\\\n",
    "&=\\log\\left(\\dfrac{e^{-wx^{i}}}{1 + e^{-wx^{i}}}\\right)\\\\\n",
    "&=\\log\\left( e^{-wx^{i}} \\right) - \\log\\left( 1 + e^{-wx^{i}} \\right)\\\\\n",
    "&=-wx^{i} - \\log\\left(1 + e^{-wx^{i}}\\right)\n",
    "\\end{align}\n",
    "$\n",
    "\n",
    "Substituting these results back into $\\mathcal{J(w)}$:\n",
    "\n",
    "$\n",
    "\\begin{align}\n",
    "\\mathcal{J(w)} &= \\dfrac{1}{N} \\sum_{i=0}^{N} \\left[ y^{i}\\log\\left( 1 + e^{-wx^{i}}\\right) + (1-y^{i})\\left( wx^{i} + \\log\\left( 1 + e^{-wx^{i}} \\right)\\right)\\right]\\\\\n",
    "&= \\dfrac{1}{N} \\sum_{i=0}^{N} \\left[ y^{i}\\log\\left( 1 + e^{-wx^{i}}\\right) + wx^{i} + \\log\\left( 1 + e^{-wx^{i}} \\right) -y^{i}wx^{i} -y^{i}\\log\\left( 1 + e^{-wx^{i}} \\right) \\right]\\\\\n",
    "&= \\dfrac{1}{N} \\sum_{i=0}^{N} \\left[ wx^{i} + \\log\\left( 1 + e^{-wx^{i}} \\right) -y^{i}wx^{i} \\right]\\\\\n",
    "\\end{align}\n",
    "$\n",
    "\n",
    "Then by writing $wx^{i}$ as $\\log\\left( e^{wx^{i}}\\right)$ we get: \n",
    "\n",
    "$\n",
    "\\begin{align}\n",
    "\\mathcal{J(w)} &= \\dfrac{1}{N} \\sum_{i=0}^{N} \\left[ \\log\\left( e^{wx^{i}}\\right) + \\log\\left( 1 + e^{-wx^{i}} \\right) -y^{i}wx^{i} \\right]\\\\\n",
    "\\end{align}\n",
    "$\n",
    "\n",
    "and then using $\\log\\left(a\\right) + \\log\\left(b\\right) = \\log \\left( ab\\right)$:\n",
    "\n",
    "$\n",
    "\\begin{align}\n",
    "\\mathcal{J(w)} &= \\dfrac{1}{N} \\sum_{i=0}^{N} \\left[ \\log\\left( 1 + e^{wx^{i}} \\right) -y^{i}wx^{i} \\right]\\\\\n",
    "\\end{align}\n",
    "$\n",
    "\n",
    "Then we need to find the deriviatives:\n",
    "\n",
    "$\n",
    "\\begin{align}\n",
    "&\\frac{\\partial}{\\partial w_j }\\log\\left( 1 + e^{wx^{i}} \\right) = \\dfrac{x_j^{i}e^{wx^{i}}}{1 + e^{wx^{i}}} = x_j^{i} h_{w}\\left( x^{\\left(i\\right)}\\right)\\\\\n",
    "&\\frac{\\partial}{\\partial w_j }y^{i}wx^{i} = y^{i}x_{j}^{i}\n",
    "\\end{align}\n",
    "$\n",
    "\n",
    "Therefore, we have:\n",
    "\n",
    "$\n",
    "\\begin{align}\n",
    "&\\frac{\\partial \\mathcal{J}\\left(w\\right)}{\\partial w_j } = \\dfrac{1}{N} \\sum_{i=0}^{N} x_j^{i} h_{w}\\left( x^{\\left(i\\right)}\\right) - y^{i}x_{j}^{i} =\n",
    "\\dfrac{1}{N} \\sum_{i=0}^{N} \\left(h_{w}( x^{\\left(i\\right)}) - y^{i}\\right)x_j^{i}\n",
    "\\end{align}\n",
    "$\n"
   ]
  },
  {
   "cell_type": "markdown",
   "metadata": {},
   "source": []
  },
  {
   "cell_type": "markdown",
   "metadata": {},
   "source": [
    "Generate fake data"
   ]
  },
  {
   "cell_type": "code",
   "execution_count": 172,
   "metadata": {},
   "outputs": [],
   "source": [
    "N = 1000\n",
    "D = 3\n",
    "\n",
    "X = 5 * np.random.randn(N,D)\n",
    "w = np.random.randn(D, 1)\n",
    "y = X.dot(w)\n",
    "\n",
    "y[y>0] = 1\n",
    "y[y<=0] = 0"
   ]
  },
  {
   "cell_type": "code",
   "execution_count": 173,
   "metadata": {},
   "outputs": [],
   "source": [
    "X_train = X[1:100]\n",
    "y_train = y[1:100]\n",
    "\n",
    "X_test = X[100:]\n",
    "y_test = y[100:]"
   ]
  },
  {
   "cell_type": "code",
   "execution_count": 174,
   "metadata": {
    "jupyter": {
     "source_hidden": true
    }
   },
   "outputs": [],
   "source": [
    "def sigmoid(x):\n",
    "    return 1 / (1 + math.exp(-x))"
   ]
  },
  {
   "cell_type": "code",
   "execution_count": 175,
   "metadata": {
    "jupyter": {
     "source_hidden": true
    }
   },
   "outputs": [],
   "source": [
    "xs = np.linspace(-10,10,50)\n",
    "logit_x = [logit(x) for x in xs]"
   ]
  },
  {
   "cell_type": "code",
   "execution_count": 176,
   "metadata": {
    "jupyter": {
     "source_hidden": true
    }
   },
   "outputs": [
    {
     "data": {
      "text/plain": [
       "[<matplotlib.lines.Line2D at 0x119a1b198>]"
      ]
     },
     "execution_count": 176,
     "metadata": {},
     "output_type": "execute_result"
    },
    {
     "data": {
      "image/png": "[encoded data removed]",
      "text/plain": [
       "<Figure size 432x288 with 1 Axes>"
      ]
     },
     "metadata": {
      "needs_background": "light"
     },
     "output_type": "display_data"
    }
   ],
   "source": [
    "plt.plot(xs,logit_x)"
   ]
  },
  {
   "cell_type": "markdown",
   "metadata": {},
   "source": [
    "The weight update rule for logisitc regression is as folows: "
   ]
  },
  {
   "cell_type": "code",
   "execution_count": 177,
   "metadata": {
    "jupyter": {
     "source_hidden": true
    }
   },
   "outputs": [
    {
     "data": {
      "text/latex": [
       "\\[   \n",
       "w_i := w_i + \\alpha (y - h_w(x))\\, h(x)\\, (1-h(x)) \\,x_i \\\\\n",
       "w_i := w_i + \\alpha (y - \\text{logit}(w \\cdot x))\\, \\text{logit}(w \\cdot x)\\, (1-\\text{logit}(w \\cdot x)) \\,x_i\n",
       "\\]\n"
      ],
      "text/plain": [
       "<IPython.core.display.Latex object>"
      ]
     },
     "metadata": {},
     "output_type": "display_data"
    }
   ],
   "source": [
    "%%latex\n",
    "\\[   \n",
    "w_i := w_i + \\alpha (y - h_w(x))\\, h(x)\\, (1-h(x)) \\,x_i \\\\\n",
    "w_i := w_i + \\alpha (y - \\text{logit}(w \\cdot x))\\, \\text{logit}(w \\cdot x)\\, (1-\\text{logit}(w \\cdot x)) \\,x_i\n",
    "\\]"
   ]
  },
  {
   "cell_type": "code",
   "execution_count": 183,
   "metadata": {
    "jupyter": {
     "source_hidden": true
    }
   },
   "outputs": [
    {
     "data": {
      "text/plain": [
       "array([[-2.90157666],\n",
       "       [-0.45663442],\n",
       "       [-1.18140259]])"
      ]
     },
     "execution_count": 183,
     "metadata": {},
     "output_type": "execute_result"
    }
   ],
   "source": [
    "w"
   ]
  },
  {
   "cell_type": "markdown",
   "metadata": {},
   "source": [
    "create a function to perform the weight update"
   ]
  },
  {
   "cell_type": "code",
   "execution_count": 179,
   "metadata": {
    "jupyter": {
     "source_hidden": true
    }
   },
   "outputs": [],
   "source": [
    "def update_weights(x,y,w,alpha):\n",
    "    a = sigmoid(np.dot(w,x))\n",
    "    w_new = w + alpha * (y-a) * a * (1-a) * x\n",
    "    return w_new"
   ]
  },
  {
   "cell_type": "code",
   "execution_count": 180,
   "metadata": {
    "jupyter": {
     "source_hidden": true
    }
   },
   "outputs": [],
   "source": [
    "def gradient_descent(X, y, n_iters=1000, alpha=0.01):\n",
    "    # pick a random w to start\n",
    "    w = np.random.randn(D) * 1/np.sqrt(D)\n",
    "    \n",
    "    for i in range(n_iters):\n",
    "        index = np.random.choice(X.shape[0], 1, replace=False)\n",
    "        rand_x = X[index][0]\n",
    "        rand_y = y[index][0]\n",
    "        w = update_weights(x=rand_x, y=rand_y, w=w, alpha=alpha)\n",
    "    return w"
   ]
  },
  {
   "cell_type": "code",
   "execution_count": 181,
   "metadata": {
    "jupyter": {
     "source_hidden": true
    }
   },
   "outputs": [],
   "source": [
    "w_learnt = gradient_descent(X_train, y_train)"
   ]
  },
  {
   "cell_type": "code",
   "execution_count": 182,
   "metadata": {
    "jupyter": {
     "source_hidden": true
    }
   },
   "outputs": [
    {
     "data": {
      "text/plain": [
       "array([-0.68833385, -0.06938553, -0.30617438])"
      ]
     },
     "execution_count": 182,
     "metadata": {},
     "output_type": "execute_result"
    }
   ],
   "source": [
    "w_learnt"
   ]
  },
  {
   "cell_type": "code",
   "execution_count": 200,
   "metadata": {
    "jupyter": {
     "source_hidden": true
    }
   },
   "outputs": [
    {
     "data": {
      "text/plain": [
       "array([0.92, 0.78, 0.99, 0.38, 0.99, 0.93, 0.2 , 1.  , 0.96, 0.39])"
      ]
     },
     "execution_count": 200,
     "metadata": {},
     "output_type": "execute_result"
    }
   ],
   "source": [
    "np.round(1 /(1 + np.exp(-np.dot(X_test, w_learnt))),2)[0:10]"
   ]
  },
  {
   "cell_type": "code",
   "execution_count": 203,
   "metadata": {
    "jupyter": {
     "source_hidden": true
    }
   },
   "outputs": [
    {
     "data": {
      "text/plain": [
       "array([[0.],\n",
       "       [1.],\n",
       "       [0.],\n",
       "       [0.],\n",
       "       [1.],\n",
       "       [1.],\n",
       "       [0.],\n",
       "       [0.],\n",
       "       [1.],\n",
       "       [1.]])"
      ]
     },
     "execution_count": 203,
     "metadata": {},
     "output_type": "execute_result"
    }
   ],
   "source": [
    "y[0:10]"
   ]
  },
  {
   "cell_type": "code",
   "execution_count": 190,
   "metadata": {
    "jupyter": {
     "source_hidden": true
    }
   },
   "outputs": [
    {
     "data": {
      "text/plain": [
       "array([-2.82670758, -2.60806618, -1.14461637])"
      ]
     },
     "execution_count": 190,
     "metadata": {},
     "output_type": "execute_result"
    }
   ],
   "source": [
    "X_test[0]"
   ]
  },
  {
   "cell_type": "code",
   "execution_count": 192,
   "metadata": {
    "jupyter": {
     "source_hidden": true
    }
   },
   "outputs": [
    {
     "data": {
      "text/plain": [
       "array([-0.68833385, -0.06938553, -0.30617438])"
      ]
     },
     "execution_count": 192,
     "metadata": {},
     "output_type": "execute_result"
    }
   ],
   "source": [
    "w_learnt"
   ]
  },
  {
   "cell_type": "code",
   "execution_count": 194,
   "metadata": {
    "jupyter": {
     "source_hidden": true
    }
   },
   "outputs": [
    {
     "data": {
      "text/plain": [
       "2.477132767222085"
      ]
     },
     "execution_count": 194,
     "metadata": {},
     "output_type": "execute_result"
    }
   ],
   "source": [
    "np.dot(X_test[0], w_learnt)"
   ]
  },
  {
   "cell_type": "code",
   "execution_count": null,
   "metadata": {
    "jupyter": {
     "source_hidden": true
    }
   },
   "outputs": [],
   "source": []
  }
 ],
 "metadata": {
  "kernelspec": {
   "display_name": "Python 3",
   "language": "python",
   "name": "python3"
  },
  "language_info": {
   "codemirror_mode": {
    "name": "ipython",
    "version": 3
   },
   "file_extension": ".py",
   "mimetype": "text/x-python",
   "name": "python",
   "nbconvert_exporter": "python",
   "pygments_lexer": "ipython3",
   "version": "3.7.0"
  }
 },
 "nbformat": 4,
 "nbformat_minor": 4
}
